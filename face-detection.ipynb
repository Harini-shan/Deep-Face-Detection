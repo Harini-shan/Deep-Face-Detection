{
 "cells": [
  {
   "cell_type": "markdown",
   "id": "efef1ce4-e599-4bc3-b838-2f3e39e281cb",
   "metadata": {},
   "source": [
    "### Install Dependencies"
   ]
  },
  {
   "cell_type": "code",
   "execution_count": null,
   "id": "e151adfb-52bc-42d4-9d47-6834aa2122ec",
   "metadata": {},
   "outputs": [],
   "source": [
    "import tensorflow as tf\n",
    "print(tf.__version__)"
   ]
  },
  {
   "cell_type": "code",
   "execution_count": null,
   "id": "9e8ad5c3-d32d-4bd0-b88e-1b806fbfa187",
   "metadata": {},
   "outputs": [],
   "source": [
    "# --- Complete Environment Verification ---\n",
    "\n",
    "print(\"=\"*50)\n",
    "print(\"Verifying all project libraries...\")\n",
    "print(\"=\"*50)\n",
    "\n",
    "success_count = 0\n",
    "error_count = 0\n",
    "\n",
    "def check_library(import_name, package_name, version_attribute='__version__'):\n",
    "    \"\"\"Tries to import a library and print its version.\"\"\"\n",
    "    global success_count, error_count\n",
    "    try:\n",
    "        module = __import__(import_name)\n",
    "        version = getattr(module, version_attribute)\n",
    "        print(f\"✅ {package_name:<20} | Version: {version}\")\n",
    "        success_count += 1\n",
    "    except (ImportError, AttributeError):\n",
    "        print(f\"❌ {package_name:<20} | NOT FOUND or version attribute incorrect.\")\n",
    "        error_count += 1\n",
    "\n",
    "# --- List of Libraries to Check ---\n",
    "# Format: (import_name, display_name)\n",
    "libraries_to_check = [\n",
    "    ('tensorflow', 'TensorFlow'),\n",
    "    ('cv2', 'OpenCV'),\n",
    "    ('matplotlib', 'Matplotlib'),\n",
    "    ('albumentations', 'Albumentations'),\n",
    "    ('labelme', 'LabelMe'),\n",
    "    ('numpy', 'NumPy'),         # A core dependency, good to check\n",
    "    ('PIL', 'Pillow (PIL)')     # Often used for image processing\n",
    "]\n",
    "\n",
    "# --- Run the Checks ---\n",
    "for lib_import, lib_name in libraries_to_check:\n",
    "    check_library(lib_import, lib_name)\n",
    "\n",
    "# --- Final Summary ---\n",
    "print(\"=\"*50)\n",
    "if error_count == 0:\n",
    "    print(\"🎉 All libraries are installed and ready to go!\")\n",
    "else:\n",
    "    print(f\"⚠️ Found {error_count} missing or problematic libraries. Please install or reinstall them.\")\n",
    "print(\"=\"*50)\n",
    "\n",
    "# You can also check the Python interpreter path for final confirmation\n",
    "import sys\n",
    "print(f\"\\nJupyter is running on this Python interpreter:\\n{sys.executable}\")"
   ]
  },
  {
   "cell_type": "markdown",
   "id": "bb9e6887-b1a1-4fba-9e74-2b213588c0c2",
   "metadata": {},
   "source": [
    "### Collect Images using CV"
   ]
  },
  {
   "cell_type": "code",
   "execution_count": null,
   "id": "a641656f-8da6-4a6d-bfc7-7c51f015c504",
   "metadata": {},
   "outputs": [],
   "source": [
    "import os\n",
    "import time\n",
    "import uuid\n",
    "import cv2"
   ]
  },
  {
   "cell_type": "code",
   "execution_count": null,
   "id": "b17eea53-619f-456e-b419-8d9c98a6055b",
   "metadata": {},
   "outputs": [],
   "source": [
    "img_path=os.path.join('data','images')\n",
    "num_of_imgs=30"
   ]
  },
  {
   "cell_type": "code",
   "execution_count": null,
   "id": "15971435-e08b-4083-99de-cf934091dd6a",
   "metadata": {},
   "outputs": [],
   "source": [
    "cap=cv2.VideoCapture(0)\n",
    "for imgnum in range(num_of_imgs):\n",
    "    print('Collecting image {}'.format(imgnum))\n",
    "    ret,frame=cap.read()\n",
    "    img_name=os.path.join(img_path,f'{str(uuid.uuid1())}.jpg')\n",
    "    cv2.imwrite(img_name,frame)\n",
    "    cv2.imshow('frame',frame)\n",
    "    time.sleep(1)\n",
    "\n",
    "    if cv2.waitKey(1) & 0xFF == ord('q'):\n",
    "        break\n",
    "cap.release()\n",
    "cv2.destroyAllWindows()"
   ]
  },
  {
   "cell_type": "markdown",
   "id": "294d6bde-914f-447e-8937-5573397f1f14",
   "metadata": {},
   "source": [
    "### Label Images"
   ]
  },
  {
   "cell_type": "code",
   "execution_count": null,
   "id": "dfc90eb7-bca4-4eda-a637-bd78b3f91efa",
   "metadata": {},
   "outputs": [],
   "source": [
    "!labelme"
   ]
  },
  {
   "cell_type": "markdown",
   "id": "05ad7ec7-2c3c-48ce-b9a3-f5d37dba9953",
   "metadata": {},
   "source": [
    "#### Import Dependencies"
   ]
  },
  {
   "cell_type": "code",
   "execution_count": null,
   "id": "51a257b1-6864-4c2b-9037-0aaaa96f1f1d",
   "metadata": {},
   "outputs": [],
   "source": [
    "import tensorflow as tf\n",
    "import json\n",
    "import numpy as np\n",
    "from matplotlib import pyplot as plt"
   ]
  },
  {
   "cell_type": "markdown",
   "id": "2a03088d-f0ea-4bb2-96f7-09a820388f4e",
   "metadata": {},
   "source": [
    "#### Load Data into TF Pipeline"
   ]
  },
  {
   "cell_type": "code",
   "execution_count": null,
   "id": "2c8d39ed-6b87-4c5a-bfae-fc5b6126c171",
   "metadata": {
    "scrolled": true
   },
   "outputs": [],
   "source": [
    "images=tf.data.Dataset.list_files('data\\\\images\\\\*.jpg',shuffle=False)"
   ]
  },
  {
   "cell_type": "code",
   "execution_count": null,
   "id": "04ca2741-0152-4375-8ba1-3ec1a26faf30",
   "metadata": {},
   "outputs": [],
   "source": [
    "images.as_numpy_iterator().next()"
   ]
  },
  {
   "cell_type": "code",
   "execution_count": null,
   "id": "de97570d-09d5-4a87-91f3-88c1981bfff3",
   "metadata": {},
   "outputs": [],
   "source": [
    "def load_img(x):\n",
    "    byte_img=tf.io.read_file(x)\n",
    "    img=tf.io.decode_jpeg(byte_img)\n",
    "    return img"
   ]
  },
  {
   "cell_type": "code",
   "execution_count": null,
   "id": "3e000038-ce83-408b-97cc-b1d5133559a9",
   "metadata": {},
   "outputs": [],
   "source": [
    "images=images.map(load_img)"
   ]
  },
  {
   "cell_type": "code",
   "execution_count": null,
   "id": "37c3ff8d-9c64-4871-b2d5-68dd5aa4936e",
   "metadata": {},
   "outputs": [],
   "source": [
    "images.as_numpy_iterator().next()"
   ]
  },
  {
   "cell_type": "markdown",
   "id": "e9e41ffe-5a59-40ad-a7b9-8851ba2d46ea",
   "metadata": {},
   "source": [
    "#### Visualize the data"
   ]
  },
  {
   "cell_type": "code",
   "execution_count": null,
   "id": "fa21a221-8254-486e-a5ab-0d5f8ac5c25c",
   "metadata": {},
   "outputs": [],
   "source": [
    "image_generator=images.batch(4).as_numpy_iterator()    #batch= no. of img to be shown at a time"
   ]
  },
  {
   "cell_type": "code",
   "execution_count": null,
   "id": "4cd58ed2-5098-4182-b762-c55249da5d80",
   "metadata": {},
   "outputs": [],
   "source": [
    "plot_img=image_generator.next()"
   ]
  },
  {
   "cell_type": "code",
   "execution_count": null,
   "id": "c2aaa311-dd5f-48ec-ac71-1402347dd527",
   "metadata": {},
   "outputs": [],
   "source": [
    "fig,ax= plt.subplots(ncols=4,figsize=(20,20))\n",
    "for idx,image in enumerate(plot_img):\n",
    "    ax[idx].imshow(image)\n",
    "plt.show()"
   ]
  },
  {
   "cell_type": "markdown",
   "id": "961f1c25-e4b2-41f5-bb8e-377fd024f751",
   "metadata": {},
   "source": [
    "### Split the data"
   ]
  },
  {
   "cell_type": "code",
   "execution_count": null,
   "id": "e2ccdc01-cbfd-4792-8218-ea836a5135c7",
   "metadata": {},
   "outputs": [],
   "source": [
    "'''\n",
    "Split the data manually\n",
    "90*.7= 63 --- train\n",
    "14 -- test\n",
    "13 -- val\n",
    "'''"
   ]
  },
  {
   "cell_type": "markdown",
   "id": "86b41fb1-bc99-4ba7-8859-790c6a377d92",
   "metadata": {},
   "source": [
    "#### Move the matching label to its folder\n"
   ]
  },
  {
   "cell_type": "code",
   "execution_count": null,
   "id": "0c4e884e-f732-4453-a6ff-67d482089cfc",
   "metadata": {},
   "outputs": [],
   "source": [
    "for folder in ['train','test','val']:\n",
    "    for file in os.listdir(os.path.join('data',folder,'images')):\n",
    "\n",
    "        filename=file.split('.')[0]+'.json'\n",
    "        existing_filepath=os.path.join('data','labels',filename)\n",
    "        if os.path.exists(existing_filepath):\n",
    "            new_filepath= os.path.join('data',folder,'labels',filename)\n",
    "            os.replace(existing_filepath,new_filepath)"
   ]
  },
  {
   "cell_type": "markdown",
   "id": "2c994e33-0d6f-4f28-8a8f-d9c9ce5f459d",
   "metadata": {},
   "source": [
    "## Apply image augmentation on images and labels using Albumentation"
   ]
  },
  {
   "cell_type": "markdown",
   "id": "c19063ba-4819-48bb-a733-a23eb578b999",
   "metadata": {},
   "source": [
    "#### Setup Albumentation pipeline"
   ]
  },
  {
   "cell_type": "code",
   "execution_count": null,
   "id": "b2c8c200-f917-48cf-98f9-df135f56e4cb",
   "metadata": {},
   "outputs": [],
   "source": [
    "img=cv2.imread(os.path.join('data','train','images','0c68b03f-9856-11f0-81d0-a77e419dc414.jpg'))"
   ]
  },
  {
   "cell_type": "code",
   "execution_count": null,
   "id": "dfcb3139-03d0-4350-91ae-62f966e192cc",
   "metadata": {},
   "outputs": [],
   "source": [
    "img.shape"
   ]
  },
  {
   "cell_type": "code",
   "execution_count": null,
   "id": "fb933293-0b64-4dde-8fac-f0561b89625b",
   "metadata": {},
   "outputs": [],
   "source": [
    "import albumentations as alb"
   ]
  },
  {
   "cell_type": "code",
   "execution_count": null,
   "id": "0e9824c4-fe4a-4c1a-a33e-10f5ddfbab47",
   "metadata": {},
   "outputs": [],
   "source": [
    "augmentor= alb.Compose([alb.RandomCrop(width=450,height=450),\n",
    "                       alb.HorizontalFlip(p=0.5),\n",
    "                       alb.RandomBrightnessContrast(p=0.2),\n",
    "                       alb.RGBShift(p=0.2),\n",
    "                       alb.VerticalFlip(p=0.5)],\n",
    "                       bbox_params=alb.BboxParams(format='albumentations',\n",
    "                                                 label_fields=['class_labels']))"
   ]
  },
  {
   "cell_type": "markdown",
   "id": "b5225d33-b854-449d-8bd6-255741ea9252",
   "metadata": {},
   "source": [
    "##### Load a test image and annotate with OpenCV and JSON"
   ]
  },
  {
   "cell_type": "code",
   "execution_count": null,
   "id": "8ee10334-55fd-41fa-b467-1b0ece3113eb",
   "metadata": {},
   "outputs": [],
   "source": [
    "img=cv2.imread(os.path.join('data','train','images','0a8ab48c-9856-11f0-9cc3-a77e419dc414.jpg'))"
   ]
  },
  {
   "cell_type": "code",
   "execution_count": null,
   "id": "d543ccc6-015c-482d-8bbf-6fb9b5c944b3",
   "metadata": {},
   "outputs": [],
   "source": [
    "img.shape"
   ]
  },
  {
   "cell_type": "code",
   "execution_count": null,
   "id": "92a31545-2fbf-472c-b412-984146988464",
   "metadata": {},
   "outputs": [],
   "source": [
    "with open(os.path.join('data','train','labels','0a8ab48c-9856-11f0-9cc3-a77e419dc414.json'), 'r') as f:\n",
    "    label=json.load(f)"
   ]
  },
  {
   "cell_type": "code",
   "execution_count": null,
   "id": "276851e1-fb06-45ed-9b82-b96060c37a4f",
   "metadata": {},
   "outputs": [],
   "source": [
    "label['shapes'][0]['points']"
   ]
  },
  {
   "cell_type": "code",
   "execution_count": null,
   "id": "8e00e9ec-23b0-471d-93ae-0b1ba5ab2f61",
   "metadata": {},
   "outputs": [],
   "source": [
    "coords=[0,0,0,0]\n",
    "coords[0]=label['shapes'][0]['points'][0][0]\n",
    "coords[1]=label['shapes'][0]['points'][0][1]\n",
    "coords[2]=label['shapes'][0]['points'][1][0]\n",
    "coords[3]=label['shapes'][0]['points'][1][1]"
   ]
  },
  {
   "cell_type": "code",
   "execution_count": null,
   "id": "883c1df7-aff5-40e9-b458-b0925fdb7231",
   "metadata": {},
   "outputs": [],
   "source": [
    "coords   # pascal_voc formal"
   ]
  },
  {
   "cell_type": "code",
   "execution_count": null,
   "id": "ca852a0c-47ba-4f47-9ed3-fc16f902ffba",
   "metadata": {},
   "outputs": [],
   "source": [
    " coords=list(np.divide(coords,[640,480,640,480]))"
   ]
  },
  {
   "cell_type": "code",
   "execution_count": null,
   "id": "dc7908ff-ebc8-44cd-846a-c8bbec71b678",
   "metadata": {},
   "outputs": [],
   "source": [
    "coords   # albumentations format"
   ]
  },
  {
   "cell_type": "markdown",
   "id": "5c83938c-a581-4811-83fa-4ac070b090c9",
   "metadata": {},
   "source": [
    "#### Apply Augmentations and view result"
   ]
  },
  {
   "cell_type": "code",
   "execution_count": null,
   "id": "11c58c8a-eb9d-40eb-8afb-e059f63f0631",
   "metadata": {},
   "outputs": [],
   "source": [
    "augmented= augmentor(image=img, bboxes=[coords], class_labels=['face'])"
   ]
  },
  {
   "cell_type": "code",
   "execution_count": null,
   "id": "5035c016-f62e-4daf-9273-e0f91308ab25",
   "metadata": {},
   "outputs": [],
   "source": [
    "augmented['bboxes']"
   ]
  },
  {
   "cell_type": "code",
   "execution_count": null,
   "id": "0e6e09d0-e1a0-4a84-b87a-16d284dae8c0",
   "metadata": {},
   "outputs": [],
   "source": [
    "augmented['bboxes'][0][:2]"
   ]
  },
  {
   "cell_type": "code",
   "execution_count": null,
   "id": "ff2e9bb3-e5a1-4fa6-9ba5-8eb8399a5798",
   "metadata": {},
   "outputs": [],
   "source": [
    "cv2.rectangle(augmented['image'],\n",
    "             tuple(np.multiply(augmented['bboxes'][0][:2],[450,450]).astype(int)),\n",
    "             tuple(np.multiply(augmented['bboxes'][0][2:],[450,450]).astype(int)),\n",
    "             (255,0,0),2)\n",
    "plt.imshow(augmented['image'])"
   ]
  },
  {
   "cell_type": "markdown",
   "id": "9dc47f69-a578-44c9-b5d4-90be7ef229c2",
   "metadata": {},
   "source": [
    "## Build and Run Augmentation pipeline"
   ]
  },
  {
   "cell_type": "code",
   "execution_count": null,
   "id": "26a1b4b1-d8f3-4627-9199-751946c97750",
   "metadata": {},
   "outputs": [],
   "source": [
    "for partition in ['train','test','val']:\n",
    "    for image in os.listdir(os.path.join('data',partition,'images')):\n",
    "        img=cv2.imread(os.path.join('data',partition,'images',image))\n",
    "\n",
    "        coords=[0,0,0.00001,0.00001]\n",
    "        label_path= os.path.join('data',partition,'labels',f'{image.split(\".\")[0]}.json')\n",
    "        if os.path.exists(label_path):\n",
    "            with open(label_path,'r') as f:\n",
    "                label=json.load(f)\n",
    "\n",
    "            coords[0]=label['shapes'][0]['points'][0][0]\n",
    "            coords[1]=label['shapes'][0]['points'][0][1]\n",
    "            coords[2]=label['shapes'][0]['points'][1][0]\n",
    "            coords[3]=label['shapes'][0]['points'][1][1]\n",
    "            coords=list(np.divide(coords,[640,480,640,480]))\n",
    "\n",
    "        try:\n",
    "            for x in range(60):\n",
    "                augmented= augmentor(image=img,bboxes=[coords],class_labels=['face'])\n",
    "                cv2.imwrite(os.path.join('aug_data',partition,'images',f'{image.split(\".\")[0]}+{x}.jpg'), augmented['image'])\n",
    "\n",
    "                annotation= {}\n",
    "                annotation['image']=image\n",
    "\n",
    "                if os.path.exists(label_path):\n",
    "                    if len(augmented['bboxes'])==0:\n",
    "                        annotation['bbox']= [0,0,0,0]\n",
    "                        annotation['class']=0\n",
    "                    else:\n",
    "                        annotation['bbox']=augmented['bboxes'][0]\n",
    "                        annotation['class']=1\n",
    "                else:\n",
    "                    annotation['bbox']=[0,0,0,0]\n",
    "                    annotation['class']=0\n",
    "\n",
    "                with open(os.path.join('aug_data',partition,'labels',f'{image.split(\".\")[0]}.{x}.json'),'w') as f:\n",
    "                    json.dump(annotation,f)\n",
    "\n",
    "        except Exception as e:\n",
    "            print(e)"
   ]
  },
  {
   "cell_type": "markdown",
   "id": "7f98a5d9-1436-402e-9f9c-4a6286de5d90",
   "metadata": {},
   "source": [
    "### Load Augmented Images to Tensorflow dataset"
   ]
  },
  {
   "cell_type": "code",
   "execution_count": null,
   "id": "f967aaa3-470b-4ba9-819a-8814ea90fa9b",
   "metadata": {},
   "outputs": [],
   "source": [
    "train_images= tf.data.Dataset.list_files(\"aug_data\\\\train\\\\images\\\\*.jpg\", shuffle=False)\n",
    "train_images= train_images.map(load_img)\n",
    "train_images= train_images.map(lambda x: tf.image.resize(x,(120,120)))\n",
    "train_images= train_images.map(lambda x: x/255)"
   ]
  },
  {
   "cell_type": "code",
   "execution_count": null,
   "id": "55f4f68a-8808-43b8-b157-4f2eba24212a",
   "metadata": {},
   "outputs": [],
   "source": [
    "test_images= tf.data.Dataset.list_files(\"aug_data\\\\test\\\\images\\\\*.jpg\", shuffle=False)\n",
    "test_images= test_images.map(load_img)\n",
    "test_images= test_images.map(lambda x: tf.image.resize(x,(120,120)))\n",
    "test_images= test_images.map(lambda x: x/255)"
   ]
  },
  {
   "cell_type": "code",
   "execution_count": null,
   "id": "b93c9502-c803-4eb8-9f59-de23c4c81d42",
   "metadata": {},
   "outputs": [],
   "source": [
    "val_images= tf.data.Dataset.list_files(\"aug_data\\\\val\\\\images\\\\*.jpg\", shuffle=False)\n",
    "val_images= val_images.map(load_img)\n",
    "val_images= val_images.map(lambda x: tf.image.resize(x,(120,120)))\n",
    "val_images= val_images.map(lambda x: x/255)"
   ]
  },
  {
   "cell_type": "code",
   "execution_count": null,
   "id": "7834cf81-a3bf-401c-93f6-10ec67a320c8",
   "metadata": {},
   "outputs": [],
   "source": [
    "train_images.as_numpy_iterator().next()"
   ]
  },
  {
   "cell_type": "markdown",
   "id": "062c0502-13e6-4fde-8fd1-676acfe779d6",
   "metadata": {},
   "source": [
    "### Prepare Labels"
   ]
  },
  {
   "cell_type": "markdown",
   "id": "6dd15c21-0a9f-48bd-be6f-d1b2f0c2c8fb",
   "metadata": {},
   "source": [
    "##### Build Label loading function"
   ]
  },
  {
   "cell_type": "code",
   "execution_count": null,
   "id": "5d612d50-72fb-4d1d-9197-d9af6e988f32",
   "metadata": {},
   "outputs": [],
   "source": [
    "def load_labels(label_path):\n",
    "    with open(label_path.numpy(), 'r', encoding= 'utf-8') as f:\n",
    "        label=json.load(f)\n",
    "\n",
    "    return [label['class']], label['bbox']"
   ]
  },
  {
   "cell_type": "markdown",
   "id": "9cec1414-bc2f-48b1-8296-79b92c01813e",
   "metadata": {},
   "source": [
    "##### Load Labels to TF Dataset"
   ]
  },
  {
   "cell_type": "code",
   "execution_count": null,
   "id": "ff484da8-4e57-4ea8-9f90-6cffc22a38f8",
   "metadata": {},
   "outputs": [],
   "source": [
    "train_labels= tf.data.Dataset.list_files('aug_data\\\\train\\\\labels\\\\*.json', shuffle=False)"
   ]
  },
  {
   "cell_type": "code",
   "execution_count": null,
   "id": "3873ba4c-bfda-4b15-8fc4-fe415b2487a9",
   "metadata": {},
   "outputs": [],
   "source": [
    "train_labels.as_numpy_iterator().next()"
   ]
  },
  {
   "cell_type": "code",
   "execution_count": null,
   "id": "c7779f47-d042-4fbe-bc88-65b8353377db",
   "metadata": {},
   "outputs": [],
   "source": [
    "train_labels= tf.data.Dataset.list_files('aug_data\\\\train\\\\labels\\\\*.json', shuffle=False)\n",
    "train_labels= train_labels.map(lambda x: tf.py_function(load_labels, [x], [tf.uint8, tf.float16]))"
   ]
  },
  {
   "cell_type": "code",
   "execution_count": null,
   "id": "7fc0176e-5731-4fd0-b617-38097d7a4ff3",
   "metadata": {},
   "outputs": [],
   "source": [
    "test_labels= tf.data.Dataset.list_files('aug_data\\\\test\\\\labels\\\\*.json', shuffle=False)\n",
    "test_labels= test_labels.map(lambda x: tf.py_function(load_labels, [x], [tf.uint8, tf.float16]))"
   ]
  },
  {
   "cell_type": "code",
   "execution_count": null,
   "id": "f1e87a0f-7844-4e25-9642-0ae878850f02",
   "metadata": {},
   "outputs": [],
   "source": [
    "val_labels= tf.data.Dataset.list_files('aug_data\\\\val\\\\labels\\\\*.json', shuffle=False)\n",
    "val_labels= val_labels.map(lambda x: tf.py_function(load_labels, [x], [tf.uint8, tf.float16]))"
   ]
  },
  {
   "cell_type": "code",
   "execution_count": null,
   "id": "622804ea-15d7-4e51-bdeb-6a1126d9ca28",
   "metadata": {},
   "outputs": [],
   "source": [
    "train_labels.as_numpy_iterator().next()"
   ]
  },
  {
   "cell_type": "markdown",
   "id": "0047a7ed-9da6-4eff-855c-cc7f4fa7fb25",
   "metadata": {},
   "source": [
    "### Combine Images and Labels"
   ]
  },
  {
   "cell_type": "markdown",
   "id": "d8621192-1a9e-4bda-b6db-d6f88f04fc0a",
   "metadata": {},
   "source": [
    "##### Check partition length"
   ]
  },
  {
   "cell_type": "code",
   "execution_count": null,
   "id": "04bb1c75-8726-4721-861a-21aad6e90375",
   "metadata": {},
   "outputs": [],
   "source": [
    "len(train_images), len(train_labels), len(test_images), len(test_labels), len(val_images), len(val_labels)"
   ]
  },
  {
   "cell_type": "markdown",
   "id": "bda52610-2a12-4392-9122-7bb9a69bd3a8",
   "metadata": {},
   "source": [
    "##### Create final Datasets"
   ]
  },
  {
   "cell_type": "code",
   "execution_count": null,
   "id": "4cd68570-df72-45a8-9f52-a13211eb3151",
   "metadata": {},
   "outputs": [],
   "source": [
    "train= tf.data.Dataset.zip((train_images,train_labels))\n",
    "train= train.shuffle(5000)\n",
    "train= train.batch(8)\n",
    "train= train.prefetch(4)"
   ]
  },
  {
   "cell_type": "code",
   "execution_count": null,
   "id": "5eebdf5f-4720-4472-8596-a919bfe38416",
   "metadata": {},
   "outputs": [],
   "source": [
    "test= tf.data.Dataset.zip((test_images, test_labels))\n",
    "test= test.shuffle(1300)\n",
    "test= test.batch(8)\n",
    "test= test.prefetch(4)"
   ]
  },
  {
   "cell_type": "code",
   "execution_count": null,
   "id": "c5d98b54-d0b8-4fc4-a43e-41ac4f156e6e",
   "metadata": {},
   "outputs": [],
   "source": [
    "val= tf.data.Dataset.zip((val_images,val_labels))\n",
    "val= val.shuffle(1000)\n",
    "val= val.batch(8)\n",
    "val= val.prefetch(4)"
   ]
  },
  {
   "cell_type": "code",
   "execution_count": null,
   "id": "cf262aa3-b0f3-4e1e-bbd0-af6b9ddea6b7",
   "metadata": {},
   "outputs": [],
   "source": [
    "train.as_numpy_iterator().next()[1]"
   ]
  },
  {
   "cell_type": "markdown",
   "id": "9e53145f-964a-4008-a611-1116e9b14b0c",
   "metadata": {},
   "source": [
    "#### View image and label"
   ]
  },
  {
   "cell_type": "code",
   "execution_count": null,
   "id": "e4997642-d673-4517-a383-f2da7def7200",
   "metadata": {},
   "outputs": [],
   "source": [
    "data_samples= train.as_numpy_iterator()"
   ]
  },
  {
   "cell_type": "code",
   "execution_count": null,
   "id": "273c8347-9cd8-4bb7-8fe5-9349186aca29",
   "metadata": {},
   "outputs": [],
   "source": [
    "res= data_samples.next()"
   ]
  },
  {
   "cell_type": "code",
   "execution_count": null,
   "id": "b78c5157-3d11-4df9-ba09-d947dc65108c",
   "metadata": {},
   "outputs": [],
   "source": [
    "fig,ax = plt.subplots(ncols=4, figsize=(20,20))\n",
    "for idx in range(4):\n",
    "    sample_image= res[0][idx]\n",
    "    sample_coords= res[1][1][idx]\n",
    "\n",
    "    cv2.rectangle(sample_image,\n",
    "                 tuple(np.multiply(sample_coords[:2], [120,120]).astype(int)),\n",
    "                 tuple(np.multiply(sample_coords[2:], [120,120]).astype(int)),\n",
    "                 (255,0,0),2)\n",
    "\n",
    "    ax[idx].imshow(sample_image)"
   ]
  },
  {
   "cell_type": "markdown",
   "id": "97b6c5d6-0863-479b-b2cb-a34f481aa514",
   "metadata": {},
   "source": [
    "# Build Deep Learning Model"
   ]
  },
  {
   "cell_type": "markdown",
   "id": "cf8cd3e6-aea6-4b1f-a899-b4f92d2d2d97",
   "metadata": {},
   "source": [
    "#### Import layers"
   ]
  },
  {
   "cell_type": "code",
   "execution_count": null,
   "id": "4f21cb8b-dde7-46de-8170-5b638d9bcfac",
   "metadata": {},
   "outputs": [],
   "source": [
    "from tensorflow.keras.models import Model\n",
    "from tensorflow.keras.layers import Input, Conv2D, Dense, GlobalMaxPooling2D\n",
    "from tensorflow.keras.applications import VGG16"
   ]
  },
  {
   "cell_type": "code",
   "execution_count": null,
   "id": "a3f8736b-5d03-4e38-85c9-cc7bb99c16ae",
   "metadata": {},
   "outputs": [],
   "source": [
    "vgg= VGG16(include_top=False)"
   ]
  },
  {
   "cell_type": "code",
   "execution_count": null,
   "id": "5bc6a8be-9f74-4212-b28d-0a1e19a522a5",
   "metadata": {},
   "outputs": [],
   "source": [
    "vgg.summary()"
   ]
  },
  {
   "cell_type": "markdown",
   "id": "e0d33b1f-4457-497f-ab4b-70071b3fadb2",
   "metadata": {},
   "source": [
    "#### Build instance of Network"
   ]
  },
  {
   "cell_type": "code",
   "execution_count": null,
   "id": "9ac39814-eb66-4a89-a6de-2a254daab9ae",
   "metadata": {},
   "outputs": [],
   "source": [
    "def build_model():\n",
    "    input_layer= Input(shape=(120,120,3))\n",
    "\n",
    "    vgg= VGG16(include_top=False)(input_layer)\n",
    "    \n",
    "    # Classification\n",
    "    f1= GlobalMaxPooling2D()(vgg)\n",
    "    class1= Dense(2048,activation='relu')(f1)\n",
    "    class2= Dense(1, activation='sigmoid')(class1)\n",
    "    \n",
    "    # Regression (Bounding Box)\n",
    "    f2= GlobalMaxPooling2D()(vgg)\n",
    "    regress1= Dense(2048, activation='relu')(f2)\n",
    "    regress2= Dense(4, activation='sigmoid')(regress1)\n",
    "\n",
    "    facetracker= Model(inputs= input_layer, outputs= [class2,regress2])\n",
    "    return facetracker"
   ]
  },
  {
   "cell_type": "markdown",
   "id": "424f39a2-4e19-4a74-95e3-017d41d3f2b5",
   "metadata": {},
   "source": [
    "#### Test Neural Network"
   ]
  },
  {
   "cell_type": "code",
   "execution_count": null,
   "id": "d93c939e-2612-4ff1-8696-0c259cbc1877",
   "metadata": {},
   "outputs": [],
   "source": [
    "facetracker= build_model()"
   ]
  },
  {
   "cell_type": "code",
   "execution_count": null,
   "id": "e7e8b8d0-6b5a-4704-b1b6-a1a987ef8682",
   "metadata": {},
   "outputs": [],
   "source": [
    "facetracker.summary()"
   ]
  },
  {
   "cell_type": "code",
   "execution_count": null,
   "id": "4d3e0293-602c-48fd-9778-4ef7d8d720b0",
   "metadata": {},
   "outputs": [],
   "source": [
    "X, y = train.as_numpy_iterator().next()"
   ]
  },
  {
   "cell_type": "code",
   "execution_count": null,
   "id": "48b05d89-35a5-4606-ac6b-60acacd35d2f",
   "metadata": {},
   "outputs": [],
   "source": [
    "X.shape"
   ]
  },
  {
   "cell_type": "code",
   "execution_count": null,
   "id": "8a3dfdbe-8002-4500-8839-ee9d5296a92c",
   "metadata": {},
   "outputs": [],
   "source": [
    "classes, coords = facetracker.predict(X)"
   ]
  },
  {
   "cell_type": "code",
   "execution_count": null,
   "id": "d0e30604-86bd-407a-a26e-4af045e5eaf5",
   "metadata": {},
   "outputs": [],
   "source": [
    "classes, coords"
   ]
  },
  {
   "cell_type": "markdown",
   "id": "73e74df3-946b-4602-9ef2-288b083cfe84",
   "metadata": {},
   "source": [
    "## Define Losses and Optimizers"
   ]
  },
  {
   "cell_type": "markdown",
   "id": "5f935865-6f9d-4b1e-bc72-33054b414cc8",
   "metadata": {},
   "source": [
    "#### Define Optimizer and LR(learning rate)"
   ]
  },
  {
   "cell_type": "code",
   "execution_count": null,
   "id": "e21c2d44-315f-414f-a6b6-868ba7d7af2e",
   "metadata": {},
   "outputs": [],
   "source": [
    "batches_per_epoch = len(train)\n",
    "lr_decay = (1./0.75 -1)/ batches_per_epoch"
   ]
  },
  {
   "cell_type": "code",
   "execution_count": null,
   "id": "7ce97848-53ca-4c23-81b6-85c942546481",
   "metadata": {},
   "outputs": [],
   "source": [
    "opt= tf.keras.optimizers.Adam(learning_rate=0.0001, decay= lr_decay)"
   ]
  },
  {
   "cell_type": "markdown",
   "id": "b794d6a6-5fed-42a9-9784-6a0fe26886a0",
   "metadata": {},
   "source": [
    "#### Create Localization loss and Classification Loss"
   ]
  },
  {
   "cell_type": "code",
   "execution_count": null,
   "id": "78267497-a7a7-49b3-a517-2df07b8402b7",
   "metadata": {},
   "outputs": [],
   "source": [
    "def localization_loss(y_true, yhat):\n",
    "    delta_coord= tf.reduce_sum(tf.square(y_true[:,:2] - yhat[:,:2]))\n",
    "\n",
    "    h_true= y_true[:,3] - y_true[:,1]\n",
    "    w_true= y_true[:,2] - y_true[:,0]\n",
    "\n",
    "    h_pred= yhat[:,3] - yhat[:,1]\n",
    "    w_pred= yhat[:,2] - yhat[:,0]\n",
    "\n",
    "    delta_size= tf.reduce_sum(tf.square(w_true - w_pred) + tf.square(h_true-h_pred))\n",
    "\n",
    "    return delta_coord + delta_size"
   ]
  },
  {
   "cell_type": "code",
   "execution_count": null,
   "id": "46fbfcc0-8b38-4edc-a044-5f5346f487d9",
   "metadata": {},
   "outputs": [],
   "source": [
    "classloss= tf.keras.losses.BinaryCrossentropy()\n",
    "regressloss= localization_loss"
   ]
  },
  {
   "cell_type": "markdown",
   "id": "18b7b06e-3b69-4546-ad4e-c418a12ec51b",
   "metadata": {},
   "source": [
    "#### Test Loss metrics"
   ]
  },
  {
   "cell_type": "code",
   "execution_count": null,
   "id": "064ca087-eb0f-4b94-a8a8-bd4659890bdc",
   "metadata": {},
   "outputs": [],
   "source": [
    "localization_loss(y[1], coords)"
   ]
  },
  {
   "cell_type": "code",
   "execution_count": null,
   "id": "5cf080e5-97c2-42b5-96ad-b0609d50a009",
   "metadata": {},
   "outputs": [],
   "source": [
    "classloss(y[0], classes)"
   ]
  },
  {
   "cell_type": "code",
   "execution_count": null,
   "id": "fe115fc9-8a2c-4b13-9b32-caf44d4aec77",
   "metadata": {},
   "outputs": [],
   "source": [
    "regressloss(y[1], coords)"
   ]
  },
  {
   "cell_type": "markdown",
   "id": "38325b2c-ee09-40df-a6c6-1e7dedec4b6b",
   "metadata": {},
   "source": [
    "## Train Neural Network"
   ]
  },
  {
   "cell_type": "code",
   "execution_count": null,
   "id": "0d484058-8895-46ba-b8e6-f98fa0be8866",
   "metadata": {},
   "outputs": [],
   "source": [
    "class FaceTracker(Model):\n",
    "    def __init__(self, eyetracker, **kwargs):\n",
    "        super().__init__(**kwargs)\n",
    "        self.model= eyetracker\n",
    "\n",
    "    def compile(self,opt, classloss, localizationloss, **kwargs):\n",
    "        super().compile(**kwargs)\n",
    "        self.closs= classloss\n",
    "        self.lloss= localizationloss\n",
    "        self.opt= opt\n",
    "\n",
    "    def train_step(self, batch, **kwargs):\n",
    "        X, y= batch\n",
    "\n",
    "        with tf.GradientTape() as tape:\n",
    "            classes, coords= self.model(X, training= True)\n",
    "\n",
    "            batch_classloss= self.closs(y[0], classes)\n",
    "            batch_localizationloss= self.lloss(tf.cast(y[1], tf.float32), coords)\n",
    "\n",
    "            total_loss= batch_localizationloss+0.5*batch_classloss\n",
    "\n",
    "            grad= tape.gradient(total_loss, self.model.trainable_variables)\n",
    "\n",
    "        opt.apply_gradients(zip(grad, self.model.trainable_variables))\n",
    "\n",
    "        return {\"total_loss\": total_loss, \"class_loss\":batch_classloss, \"regress_loss\":batch_localizationloss}\n",
    "\n",
    "    def test_step(self, batch, **kwargs):\n",
    "        X, y= batch\n",
    "\n",
    "        classes, coords= self.model(X, training=False)\n",
    "\n",
    "        batch_classloss= self.closs(y[0], classes)\n",
    "        batch_localizationloss= self.lloss(tf.cast(y[1], tf.float32), coords)\n",
    "        total_loss= batch_localizationloss+0.5*batch_classloss\n",
    "\n",
    "        return {\"total_loss\": total_loss, \"class_loss\":batch_classloss, \"regress_loss\":batch_localizationloss}\n",
    "\n",
    "    def call(self, X, **kwargs):\n",
    "        return self.model(X, **kwargs)"
   ]
  },
  {
   "cell_type": "code",
   "execution_count": null,
   "id": "1be9e682-aa9a-4cdf-bdbb-0ed4c47a0868",
   "metadata": {},
   "outputs": [],
   "source": [
    "model= FaceTracker(facetracker)"
   ]
  },
  {
   "cell_type": "code",
   "execution_count": null,
   "id": "54d1d68a-ccf8-4dae-b3ba-f1c4f5c51a40",
   "metadata": {},
   "outputs": [],
   "source": [
    "model.compile(opt, classloss, regressloss)"
   ]
  },
  {
   "cell_type": "markdown",
   "id": "31fb5318-af96-482a-a14a-e429dd734973",
   "metadata": {},
   "source": [
    "##### Train"
   ]
  },
  {
   "cell_type": "code",
   "execution_count": null,
   "id": "5d321749-cec5-4460-93b0-dfae2a9b46dd",
   "metadata": {},
   "outputs": [],
   "source": [
    "logdir= 'logs'"
   ]
  },
  {
   "cell_type": "code",
   "execution_count": null,
   "id": "30d63275-4902-4722-8c04-a86e7604b939",
   "metadata": {},
   "outputs": [],
   "source": [
    "tensorboard_callback= tf.keras.callbacks.TensorBoard(log_dir=logdir)"
   ]
  },
  {
   "cell_type": "code",
   "execution_count": null,
   "id": "ef63c564-a3f0-4177-9ee9-4f5d35c54a5a",
   "metadata": {},
   "outputs": [],
   "source": [
    " hist= model.fit(train, epochs=20, validation_data=val, callbacks=[tensorboard_callback])"
   ]
  },
  {
   "cell_type": "markdown",
   "id": "bb2e861f-21ba-4468-be4c-06a1b803b19c",
   "metadata": {},
   "source": [
    "#### Plot Performance"
   ]
  },
  {
   "cell_type": "code",
   "execution_count": null,
   "id": "bd437644-69b1-4937-88c0-34e561b9aa84",
   "metadata": {},
   "outputs": [],
   "source": [
    "hist.history"
   ]
  },
  {
   "cell_type": "code",
   "execution_count": null,
   "id": "5bb9802d-5139-40ae-a201-adb9a53b1af9",
   "metadata": {},
   "outputs": [],
   "source": [
    "fig,ax = plt.subplots(ncols=3, figsize=(20,5))\n",
    "\n",
    "ax[0].plot(hist.history['total_loss'],color='teal',label='loss')\n",
    "ax[0].plot(hist.history['val_total_loss'],color='orange',label='val_loss')\n",
    "ax[0].title.set_text('Loss')\n",
    "ax[0].legend()\n",
    "\n",
    "ax[1].plot(hist.history['class_loss'],color='teal',label='loss')\n",
    "ax[1].plot(hist.history['val_total_loss'],color='orange',label='val_class_loss')\n",
    "ax[1].title.set_text('Classification Loss')\n",
    "ax[1].legend()\n",
    "\n",
    "ax[2].plot(hist.history['regress_loss'],color='teal',label='regress loss')\n",
    "ax[2].plot(hist.history['val_regress_loss'],color='orange',label='val_regress_loss')\n",
    "ax[2].title.set_text('Regression Loss')\n",
    "ax[2].legend()\n",
    "\n",
    "plt.show()"
   ]
  },
  {
   "cell_type": "markdown",
   "id": "27aec3ff-8ceb-4273-a2b6-575e3e2e7958",
   "metadata": {},
   "source": [
    "### Make Predictions"
   ]
  },
  {
   "cell_type": "markdown",
   "id": "197ede23-769a-4a12-8c27-8438c98a0021",
   "metadata": {},
   "source": [
    "##### Make Predictions on Test Set"
   ]
  },
  {
   "cell_type": "code",
   "execution_count": null,
   "id": "a646b046-2e4c-4b6d-bf2b-ae52de189ec9",
   "metadata": {},
   "outputs": [],
   "source": [
    "test_data= test.as_numpy_iterator()"
   ]
  },
  {
   "cell_type": "code",
   "execution_count": null,
   "id": "1fdcc339-6c2c-4933-90ba-1fa40a1cbb4a",
   "metadata": {},
   "outputs": [],
   "source": [
    "test_sample= test_data.next()"
   ]
  },
  {
   "cell_type": "code",
   "execution_count": null,
   "id": "37bc6f79-79dc-4a9d-9d16-0a0710af58b6",
   "metadata": {},
   "outputs": [],
   "source": [
    "yhat= facetracker.predict(test_sample[0])"
   ]
  },
  {
   "cell_type": "code",
   "execution_count": null,
   "id": "cf2f1ac7-85ca-48df-be84-bb01040a66b6",
   "metadata": {},
   "outputs": [],
   "source": [
    "fig, ax= plt.subplots(ncols=4, figsize=(20,20))\n",
    "for idx in range(4):\n",
    "    sample_image= test_sample[0][idx]\n",
    "    sample_coords= yhat[1][idx]\n",
    "\n",
    "    if yhat[0][idx] > 0.5:\n",
    "        cv2.rectangle(sample_image,\n",
    "                     tuple(np.multiply(sample_coords[:2],[120,120]).astype(int)),\n",
    "                     tuple(np.multiply(sample_coords[2:], [120,120]).astype(int)),\n",
    "                     (255,0,0),2)\n",
    "\n",
    "    ax[idx].imshow(sample_image)"
   ]
  },
  {
   "cell_type": "markdown",
   "id": "eede6df2-630b-4bdb-a9e5-a5368e9659a9",
   "metadata": {},
   "source": [
    "#### Save the Model"
   ]
  },
  {
   "cell_type": "code",
   "execution_count": null,
   "id": "49b50b49-8dcf-4d58-bd36-bc49dbcb207d",
   "metadata": {},
   "outputs": [],
   "source": [
    "from tensorflow.keras.models import load_model"
   ]
  },
  {
   "cell_type": "code",
   "execution_count": null,
   "id": "292a5d65-a1a4-42b6-be22-cf59e8f72ad8",
   "metadata": {},
   "outputs": [],
   "source": [
    "facetracker.save('facetracker.h5')"
   ]
  },
  {
   "cell_type": "markdown",
   "id": "d3a9d6bf-ff59-432e-b3a8-ecee041a9d72",
   "metadata": {},
   "source": [
    "### Real Time Detection"
   ]
  },
  {
   "cell_type": "code",
   "execution_count": null,
   "id": "703bd8d0-adcd-4173-adb0-107590a5abe4",
   "metadata": {},
   "outputs": [],
   "source": [
    "cap = cv2.VideoCapture(0)\n",
    "while cap.isOpened():\n",
    "    _ , frame = cap.read()\n",
    "    frame = frame[50:500, 50:500,:]\n",
    "    \n",
    "    rgb = cv2.cvtColor(frame, cv2.COLOR_BGR2RGB)\n",
    "    resized = tf.image.resize(rgb, (120,120))\n",
    "    \n",
    "    yhat = facetracker.predict(np.expand_dims(resized/255,0))\n",
    "    sample_coords = yhat[1][0]\n",
    "    \n",
    "    if yhat[0] > 0.5: \n",
    "        # Controls the main rectangle\n",
    "        cv2.rectangle(frame, \n",
    "                      tuple(np.multiply(sample_coords[:2], [450,450]).astype(int)),\n",
    "                      tuple(np.multiply(sample_coords[2:], [450,450]).astype(int)), \n",
    "                            (255,0,0), 2)\n",
    "        # Controls the label rectangle\n",
    "        cv2.rectangle(frame, \n",
    "                      tuple(np.add(np.multiply(sample_coords[:2], [450,450]).astype(int), \n",
    "                                    [0,-30])),\n",
    "                      tuple(np.add(np.multiply(sample_coords[:2], [450,450]).astype(int),\n",
    "                                    [80,0])), \n",
    "                            (255,0,0), -1)\n",
    "        \n",
    "        # Controls the text rendered\n",
    "        cv2.putText(frame, 'face', tuple(np.add(np.multiply(sample_coords[:2], [450,450]).astype(int),\n",
    "                                               [0,-5])),\n",
    "                    cv2.FONT_HERSHEY_SIMPLEX, 1, (255,255,255), 2, cv2.LINE_AA)\n",
    "    \n",
    "    cv2.imshow('EyeTrack', frame)\n",
    "    \n",
    "    if cv2.waitKey(1) & 0xFF == ord('q'):\n",
    "        break\n",
    "cap.release()\n",
    "cv2.destroyAllWindows()"
   ]
  },
  {
   "cell_type": "code",
   "execution_count": null,
   "id": "20a37292-85d3-41fd-8a9e-73ee5c2df183",
   "metadata": {},
   "outputs": [],
   "source": []
  }
 ],
 "metadata": {
  "kernelspec": {
   "display_name": "facedetect-final",
   "language": "python",
   "name": "facedetect-final"
  },
  "language_info": {
   "codemirror_mode": {
    "name": "ipython",
    "version": 3
   },
   "file_extension": ".py",
   "mimetype": "text/x-python",
   "name": "python",
   "nbconvert_exporter": "python",
   "pygments_lexer": "ipython3",
   "version": "3.10.8"
  }
 },
 "nbformat": 4,
 "nbformat_minor": 5
}
